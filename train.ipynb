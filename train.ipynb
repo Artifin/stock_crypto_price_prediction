{
 "cells": [
  {
   "cell_type": "code",
   "execution_count": 1,
   "metadata": {},
   "outputs": [
    {
     "name": "stderr",
     "output_type": "stream",
     "text": [
      "Using TensorFlow backend.\n"
     ]
    }
   ],
   "source": [
    "import pandas as pd\n",
    "import numpy as np\n",
    "import matplotlib.pyplot as plt\n",
    "from keras.models import Sequential\n",
    "from keras.layers import LSTM, Dropout, Dense, Activation\n",
    "from keras.callbacks import TensorBoard, ModelCheckpoint, ReduceLROnPlateau\n",
    "import datetime"
   ]
  },
  {
   "cell_type": "code",
   "execution_count": 2,
   "metadata": {},
   "outputs": [
    {
     "data": {
      "text/html": [
       "<div>\n",
       "<style scoped>\n",
       "    .dataframe tbody tr th:only-of-type {\n",
       "        vertical-align: middle;\n",
       "    }\n",
       "\n",
       "    .dataframe tbody tr th {\n",
       "        vertical-align: top;\n",
       "    }\n",
       "\n",
       "    .dataframe thead th {\n",
       "        text-align: right;\n",
       "    }\n",
       "</style>\n",
       "<table border=\"1\" class=\"dataframe\">\n",
       "  <thead>\n",
       "    <tr style=\"text-align: right;\">\n",
       "      <th></th>\n",
       "      <th>Date</th>\n",
       "      <th>Open</th>\n",
       "      <th>High</th>\n",
       "      <th>Low</th>\n",
       "      <th>Close</th>\n",
       "      <th>Adj Close</th>\n",
       "      <th>Volume</th>\n",
       "    </tr>\n",
       "  </thead>\n",
       "  <tbody>\n",
       "    <tr>\n",
       "      <th>0</th>\n",
       "      <td>2013-10-30</td>\n",
       "      <td>29700.0</td>\n",
       "      <td>30000.0</td>\n",
       "      <td>29680.0</td>\n",
       "      <td>30000.0</td>\n",
       "      <td>41.274914</td>\n",
       "      <td>10588400</td>\n",
       "    </tr>\n",
       "    <tr>\n",
       "      <th>1</th>\n",
       "      <td>2013-10-31</td>\n",
       "      <td>29960.0</td>\n",
       "      <td>30040.0</td>\n",
       "      <td>29300.0</td>\n",
       "      <td>29300.0</td>\n",
       "      <td>40.311840</td>\n",
       "      <td>12647050</td>\n",
       "    </tr>\n",
       "    <tr>\n",
       "      <th>2</th>\n",
       "      <td>2013-11-01</td>\n",
       "      <td>29800.0</td>\n",
       "      <td>30000.0</td>\n",
       "      <td>29360.0</td>\n",
       "      <td>30000.0</td>\n",
       "      <td>41.274914</td>\n",
       "      <td>11357700</td>\n",
       "    </tr>\n",
       "    <tr>\n",
       "      <th>3</th>\n",
       "      <td>2013-11-04</td>\n",
       "      <td>29840.0</td>\n",
       "      <td>30040.0</td>\n",
       "      <td>29780.0</td>\n",
       "      <td>29980.0</td>\n",
       "      <td>41.247398</td>\n",
       "      <td>10887800</td>\n",
       "    </tr>\n",
       "    <tr>\n",
       "      <th>4</th>\n",
       "      <td>2013-11-05</td>\n",
       "      <td>30040.0</td>\n",
       "      <td>30040.0</td>\n",
       "      <td>29440.0</td>\n",
       "      <td>29700.0</td>\n",
       "      <td>40.862167</td>\n",
       "      <td>8009300</td>\n",
       "    </tr>\n",
       "  </tbody>\n",
       "</table>\n",
       "</div>"
      ],
      "text/plain": [
       "         Date     Open     High      Low    Close  Adj Close    Volume\n",
       "0  2013-10-30  29700.0  30000.0  29680.0  30000.0  41.274914  10588400\n",
       "1  2013-10-31  29960.0  30040.0  29300.0  29300.0  40.311840  12647050\n",
       "2  2013-11-01  29800.0  30000.0  29360.0  30000.0  41.274914  11357700\n",
       "3  2013-11-04  29840.0  30040.0  29780.0  29980.0  41.247398  10887800\n",
       "4  2013-11-05  30040.0  30040.0  29440.0  29700.0  40.862167   8009300"
      ]
     },
     "execution_count": 2,
     "metadata": {},
     "output_type": "execute_result"
    }
   ],
   "source": [
    "data = pd.read_csv('dataset/005930.KS_5y.csv')\n",
    "data.head()"
   ]
  },
  {
   "cell_type": "code",
   "execution_count": 3,
   "metadata": {},
   "outputs": [],
   "source": [
    "high_prices = data['High'].values\n",
    "low_prices = data['Low'].values\n",
    "mid_prices = (high_prices + low_prices) / 2"
   ]
  },
  {
   "cell_type": "code",
   "execution_count": 4,
   "metadata": {},
   "outputs": [],
   "source": [
    "seq_len = 50\n",
    "sequence_length = seq_len + 1\n",
    "\n",
    "result = []\n",
    "for index in range(len(mid_prices) - sequence_length):\n",
    "    result.append(mid_prices[index: index + sequence_length])"
   ]
  },
  {
   "cell_type": "code",
   "execution_count": 5,
   "metadata": {},
   "outputs": [
    {
     "data": {
      "text/plain": [
       "((1057, 50, 1), (117, 50, 1))"
      ]
     },
     "execution_count": 5,
     "metadata": {},
     "output_type": "execute_result"
    }
   ],
   "source": [
    "def normalize_windows(data):\n",
    "    normalized_data = []\n",
    "    for window in data:\n",
    "        normalized_window = [((float(p) / float(window[0])) - 1) for p in window]\n",
    "        normalized_data.append(normalized_window)\n",
    "    return np.array(normalized_data)\n",
    "\n",
    "result = normalize_windows(result)\n",
    "\n",
    "# split train and test data\n",
    "row = int(round(result.shape[0] * 0.9))\n",
    "train = result[:row, :]\n",
    "np.random.shuffle(train)\n",
    "\n",
    "x_train = train[:, :-1]\n",
    "x_train = np.reshape(x_train, (x_train.shape[0], x_train.shape[1], 1))\n",
    "y_train = train[:, -1]\n",
    "\n",
    "x_test = result[row:, :-1]\n",
    "x_test = np.reshape(x_test, (x_test.shape[0], x_test.shape[1], 1))\n",
    "y_test = result[row:, -1]\n",
    "\n",
    "x_train.shape, x_test.shape"
   ]
  },
  {
   "cell_type": "code",
   "execution_count": 6,
   "metadata": {},
   "outputs": [
    {
     "name": "stdout",
     "output_type": "stream",
     "text": [
      "_________________________________________________________________\n",
      "Layer (type)                 Output Shape              Param #   \n",
      "=================================================================\n",
      "lstm_1 (LSTM)                (None, 50, 50)            10400     \n",
      "_________________________________________________________________\n",
      "lstm_2 (LSTM)                (None, 64)                29440     \n",
      "_________________________________________________________________\n",
      "dense_1 (Dense)              (None, 1)                 65        \n",
      "=================================================================\n",
      "Total params: 39,905\n",
      "Trainable params: 39,905\n",
      "Non-trainable params: 0\n",
      "_________________________________________________________________\n"
     ]
    }
   ],
   "source": [
    "model = Sequential()\n",
    "\n",
    "model.add(LSTM(50, return_sequences=True, input_shape=(50, 1)))\n",
    "\n",
    "model.add(LSTM(64, return_sequences=False))\n",
    "\n",
    "model.add(Dense(1, activation='linear'))\n",
    "\n",
    "model.compile(loss='mse', optimizer='rmsprop')\n",
    "\n",
    "model.summary()"
   ]
  },
  {
   "cell_type": "code",
   "execution_count": 8,
   "metadata": {
    "scrolled": true
   },
   "outputs": [
    {
     "name": "stdout",
     "output_type": "stream",
     "text": [
      "Train on 1057 samples, validate on 117 samples\n",
      "Epoch 1/20\n",
      "1057/1057 [==============================] - 8s 8ms/step - loss: 6.0914e-04 - val_loss: 2.8894e-04\n",
      "\n",
      "Epoch 00001: val_loss improved from inf to 0.00029, saving model to ./models/2018_10_30_15_34_51.h5\n",
      "Epoch 2/20\n",
      "1057/1057 [==============================] - 8s 8ms/step - loss: 4.9351e-04 - val_loss: 7.7997e-04\n",
      "\n",
      "Epoch 00002: val_loss did not improve from 0.00029\n",
      "Epoch 3/20\n",
      "1057/1057 [==============================] - 8s 8ms/step - loss: 3.8038e-04 - val_loss: 3.1858e-04\n",
      "\n",
      "Epoch 00003: val_loss did not improve from 0.00029\n",
      "Epoch 4/20\n",
      "1057/1057 [==============================] - 9s 9ms/step - loss: 3.1765e-04 - val_loss: 3.6571e-04\n",
      "\n",
      "Epoch 00004: val_loss did not improve from 0.00029\n",
      "Epoch 5/20\n",
      "1057/1057 [==============================] - 9s 8ms/step - loss: 2.6872e-04 - val_loss: 2.2054e-04\n",
      "\n",
      "Epoch 00005: val_loss improved from 0.00029 to 0.00022, saving model to ./models/2018_10_30_15_34_51.h5\n",
      "Epoch 6/20\n",
      "1057/1057 [==============================] - 9s 8ms/step - loss: 2.4113e-04 - val_loss: 1.5451e-04\n",
      "\n",
      "Epoch 00006: val_loss improved from 0.00022 to 0.00015, saving model to ./models/2018_10_30_15_34_51.h5\n",
      "Epoch 7/20\n",
      "1057/1057 [==============================] - 8s 8ms/step - loss: 2.3560e-04 - val_loss: 2.0746e-04\n",
      "\n",
      "Epoch 00007: val_loss did not improve from 0.00015\n",
      "Epoch 8/20\n",
      "1057/1057 [==============================] - 8s 8ms/step - loss: 2.2818e-04 - val_loss: 1.4322e-04\n",
      "\n",
      "Epoch 00008: val_loss improved from 0.00015 to 0.00014, saving model to ./models/2018_10_30_15_34_51.h5\n",
      "Epoch 9/20\n",
      "1057/1057 [==============================] - 8s 8ms/step - loss: 2.2791e-04 - val_loss: 1.8669e-04\n",
      "\n",
      "Epoch 00009: val_loss did not improve from 0.00014\n",
      "Epoch 10/20\n",
      "1057/1057 [==============================] - 8s 8ms/step - loss: 2.1996e-04 - val_loss: 1.4095e-04\n",
      "\n",
      "Epoch 00010: val_loss improved from 0.00014 to 0.00014, saving model to ./models/2018_10_30_15_34_51.h5\n",
      "Epoch 11/20\n",
      "1057/1057 [==============================] - 8s 8ms/step - loss: 2.2388e-04 - val_loss: 2.1814e-04\n",
      "\n",
      "Epoch 00011: val_loss did not improve from 0.00014\n",
      "\n",
      "Epoch 00011: ReduceLROnPlateau reducing learning rate to 0.00020000000949949026.\n",
      "Epoch 12/20\n",
      "1057/1057 [==============================] - 8s 8ms/step - loss: 1.8533e-04 - val_loss: 1.3759e-04\n",
      "\n",
      "Epoch 00012: val_loss improved from 0.00014 to 0.00014, saving model to ./models/2018_10_30_15_34_51.h5\n",
      "Epoch 13/20\n",
      "1057/1057 [==============================] - 8s 8ms/step - loss: 1.8447e-04 - val_loss: 1.4146e-04\n",
      "\n",
      "Epoch 00013: val_loss did not improve from 0.00014\n",
      "Epoch 14/20\n",
      "1057/1057 [==============================] - 8s 8ms/step - loss: 1.8540e-04 - val_loss: 1.4046e-04\n",
      "\n",
      "Epoch 00014: val_loss did not improve from 0.00014\n",
      "Epoch 15/20\n",
      "1057/1057 [==============================] - 8s 8ms/step - loss: 1.8459e-04 - val_loss: 1.4820e-04\n",
      "\n",
      "Epoch 00015: val_loss did not improve from 0.00014\n",
      "Epoch 16/20\n",
      "1057/1057 [==============================] - 8s 8ms/step - loss: 1.8390e-04 - val_loss: 1.5529e-04\n",
      "\n",
      "Epoch 00016: val_loss did not improve from 0.00014\n",
      "\n",
      "Epoch 00016: ReduceLROnPlateau reducing learning rate to 4.0000001899898055e-05.\n",
      "Epoch 17/20\n",
      "1057/1057 [==============================] - 8s 8ms/step - loss: 1.7934e-04 - val_loss: 1.4908e-04\n",
      "\n",
      "Epoch 00017: val_loss did not improve from 0.00014\n",
      "Epoch 18/20\n",
      "1057/1057 [==============================] - 8s 8ms/step - loss: 1.7916e-04 - val_loss: 1.4452e-04\n",
      "\n",
      "Epoch 00018: val_loss did not improve from 0.00014\n",
      "Epoch 19/20\n",
      "1057/1057 [==============================] - 8s 8ms/step - loss: 1.7919e-04 - val_loss: 1.4320e-04\n",
      "\n",
      "Epoch 00019: val_loss did not improve from 0.00014\n",
      "Epoch 20/20\n",
      "1057/1057 [==============================] - 8s 8ms/step - loss: 1.7776e-04 - val_loss: 1.6914e-04\n",
      "\n",
      "Epoch 00020: val_loss did not improve from 0.00014\n"
     ]
    },
    {
     "data": {
      "text/plain": [
       "<keras.callbacks.History at 0x134054550>"
      ]
     },
     "execution_count": 8,
     "metadata": {},
     "output_type": "execute_result"
    }
   ],
   "source": [
    "start_time = datetime.datetime.now().strftime('%Y_%m_%d_%H_%M_%S')\n",
    "\n",
    "model.fit(x_train, y_train,\n",
    "    validation_data=(x_test, y_test),\n",
    "    batch_size=10,\n",
    "    epochs=20,\n",
    "    callbacks=[\n",
    "        TensorBoard(log_dir='logs/%s' % (start_time)),\n",
    "        ModelCheckpoint('./models/%s.h5' % (start_time), monitor='val_loss', verbose=1, save_best_only=True, mode='auto'),\n",
    "        ReduceLROnPlateau(monitor='val_loss', factor=0.2, patience=5, verbose=1, mode='auto')\n",
    "])"
   ]
  },
  {
   "cell_type": "code",
   "execution_count": 9,
   "metadata": {},
   "outputs": [
    {
     "data": {
      "image/png": "[encoded data removed]",
      "text/plain": [
       "<Figure size 432x288 with 1 Axes>"
      ]
     },
     "metadata": {},
     "output_type": "display_data"
    }
   ],
   "source": [
    "pred = model.predict(x_test)\n",
    "\n",
    "fig = plt.figure(facecolor='white')\n",
    "ax = fig.add_subplot(111)\n",
    "ax.plot(y_test, label='True')\n",
    "ax.plot(pred, label='Prediction')\n",
    "ax.legend()\n",
    "plt.show()"
   ]
  },
  {
   "cell_type": "code",
   "execution_count": null,
   "metadata": {},
   "outputs": [],
   "source": []
  }
 ],
 "metadata": {
  "kernelspec": {
   "display_name": "p3",
   "language": "python",
   "name": "p3"
  },
  "language_info": {
   "codemirror_mode": {
    "name": "ipython",
    "version": 3
   },
   "file_extension": ".py",
   "mimetype": "text/x-python",
   "name": "python",
   "nbconvert_exporter": "python",
   "pygments_lexer": "ipython3",
   "version": "3.6.1"
  }
 },
 "nbformat": 4,
 "nbformat_minor": 2
}
